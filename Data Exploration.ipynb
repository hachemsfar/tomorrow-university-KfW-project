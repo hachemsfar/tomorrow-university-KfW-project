{
 "cells": [
  {
   "cell_type": "code",
   "execution_count": 5,
   "id": "1856bf91",
   "metadata": {},
   "outputs": [],
   "source": [
    "import pandas as pd\n",
    "import numpy as np\n",
    "import matplotlib.pyplot as plt\n"
   ]
  },
  {
   "cell_type": "code",
   "execution_count": 6,
   "id": "5d940619",
   "metadata": {},
   "outputs": [],
   "source": [
    "df = pd.read_csv('Ladesaeulenregister_CSV.csv', skiprows=10, sep=';', decimal=',',\n",
    "                 encoding=\"ISO-8859-1\", engine='python')"
   ]
  },
  {
   "cell_type": "code",
   "execution_count": 20,
   "id": "64b9c19d",
   "metadata": {},
   "outputs": [
    {
     "data": {
      "text/html": [
       "<div>\n",
       "<style scoped>\n",
       "    .dataframe tbody tr th:only-of-type {\n",
       "        vertical-align: middle;\n",
       "    }\n",
       "\n",
       "    .dataframe tbody tr th {\n",
       "        vertical-align: top;\n",
       "    }\n",
       "\n",
       "    .dataframe thead th {\n",
       "        text-align: right;\n",
       "    }\n",
       "</style>\n",
       "<table border=\"1\" class=\"dataframe\">\n",
       "  <thead>\n",
       "    <tr style=\"text-align: right;\">\n",
       "      <th></th>\n",
       "      <th>Betreiber</th>\n",
       "      <th>Straße</th>\n",
       "      <th>Hausnummer</th>\n",
       "      <th>Adresszusatz</th>\n",
       "      <th>Postleitzahl</th>\n",
       "      <th>Ort</th>\n",
       "      <th>Bundesland</th>\n",
       "      <th>Kreis/kreisfreie Stadt</th>\n",
       "      <th>Breitengrad</th>\n",
       "      <th>Längengrad</th>\n",
       "      <th>...</th>\n",
       "      <th>Public Key1</th>\n",
       "      <th>Steckertypen2</th>\n",
       "      <th>P2 [kW]</th>\n",
       "      <th>Public Key2</th>\n",
       "      <th>Steckertypen3</th>\n",
       "      <th>P3 [kW]</th>\n",
       "      <th>Public Key3</th>\n",
       "      <th>Steckertypen4</th>\n",
       "      <th>P4 [kW]</th>\n",
       "      <th>Public Key4</th>\n",
       "    </tr>\n",
       "  </thead>\n",
       "  <tbody>\n",
       "    <tr>\n",
       "      <th>0</th>\n",
       "      <td>EnBW mobility+ AG und Co.KG</td>\n",
       "      <td>Hauptstraße</td>\n",
       "      <td>91c</td>\n",
       "      <td>NaN</td>\n",
       "      <td>73340</td>\n",
       "      <td>Amstetten</td>\n",
       "      <td>Baden-Württemberg</td>\n",
       "      <td>Landkreis Alb-Donau-Kreis</td>\n",
       "      <td>48.5785342</td>\n",
       "      <td>9.8748399</td>\n",
       "      <td>...</td>\n",
       "      <td>NaN</td>\n",
       "      <td>DC Kupplung Combo, DC CHAdeMO</td>\n",
       "      <td>50.0</td>\n",
       "      <td>NaN</td>\n",
       "      <td>NaN</td>\n",
       "      <td>NaN</td>\n",
       "      <td>NaN</td>\n",
       "      <td>NaN</td>\n",
       "      <td>NaN</td>\n",
       "      <td>NaN</td>\n",
       "    </tr>\n",
       "    <tr>\n",
       "      <th>1</th>\n",
       "      <td>SWU Energie GmbH</td>\n",
       "      <td>Lindenstraße</td>\n",
       "      <td>7</td>\n",
       "      <td>NaN</td>\n",
       "      <td>89176</td>\n",
       "      <td>Asselfingen</td>\n",
       "      <td>Baden-Württemberg</td>\n",
       "      <td>Landkreis Alb-Donau-Kreis</td>\n",
       "      <td>48.528983</td>\n",
       "      <td>10.193397</td>\n",
       "      <td>...</td>\n",
       "      <td>NaN</td>\n",
       "      <td>NaN</td>\n",
       "      <td>NaN</td>\n",
       "      <td>NaN</td>\n",
       "      <td>NaN</td>\n",
       "      <td>NaN</td>\n",
       "      <td>NaN</td>\n",
       "      <td>NaN</td>\n",
       "      <td>NaN</td>\n",
       "      <td>NaN</td>\n",
       "    </tr>\n",
       "    <tr>\n",
       "      <th>2</th>\n",
       "      <td>SWU Energie GmbH</td>\n",
       "      <td>Öllengasse</td>\n",
       "      <td>10</td>\n",
       "      <td>NaN</td>\n",
       "      <td>89177</td>\n",
       "      <td>Ballendorf</td>\n",
       "      <td>Baden-Württemberg</td>\n",
       "      <td>Landkreis Alb-Donau-Kreis</td>\n",
       "      <td>48.553539</td>\n",
       "      <td>10.082678</td>\n",
       "      <td>...</td>\n",
       "      <td>NaN</td>\n",
       "      <td>AC Steckdose Typ 2</td>\n",
       "      <td>22.0</td>\n",
       "      <td>NaN</td>\n",
       "      <td>NaN</td>\n",
       "      <td>NaN</td>\n",
       "      <td>NaN</td>\n",
       "      <td>NaN</td>\n",
       "      <td>NaN</td>\n",
       "      <td>NaN</td>\n",
       "    </tr>\n",
       "    <tr>\n",
       "      <th>3</th>\n",
       "      <td>SWU Energie GmbH</td>\n",
       "      <td>Sterngasse</td>\n",
       "      <td>6</td>\n",
       "      <td>NaN</td>\n",
       "      <td>88481</td>\n",
       "      <td>Balzheim</td>\n",
       "      <td>Baden-Württemberg</td>\n",
       "      <td>Landkreis Alb-Donau-Kreis</td>\n",
       "      <td>48.179959</td>\n",
       "      <td>10.076977</td>\n",
       "      <td>...</td>\n",
       "      <td>NaN</td>\n",
       "      <td>NaN</td>\n",
       "      <td>NaN</td>\n",
       "      <td>NaN</td>\n",
       "      <td>NaN</td>\n",
       "      <td>NaN</td>\n",
       "      <td>NaN</td>\n",
       "      <td>NaN</td>\n",
       "      <td>NaN</td>\n",
       "      <td>NaN</td>\n",
       "    </tr>\n",
       "    <tr>\n",
       "      <th>4</th>\n",
       "      <td>EnBW mobility+ AG und Co.KG</td>\n",
       "      <td>Heuweg</td>\n",
       "      <td>12</td>\n",
       "      <td>NaN</td>\n",
       "      <td>89179</td>\n",
       "      <td>Beimerstetten</td>\n",
       "      <td>Baden-Württemberg</td>\n",
       "      <td>Landkreis Alb-Donau-Kreis</td>\n",
       "      <td>48.480387</td>\n",
       "      <td>9.980588</td>\n",
       "      <td>...</td>\n",
       "      <td>NaN</td>\n",
       "      <td>AC Steckdose Typ 2, AC Schuko</td>\n",
       "      <td>22.0</td>\n",
       "      <td>NaN</td>\n",
       "      <td>NaN</td>\n",
       "      <td>NaN</td>\n",
       "      <td>NaN</td>\n",
       "      <td>NaN</td>\n",
       "      <td>NaN</td>\n",
       "      <td>NaN</td>\n",
       "    </tr>\n",
       "  </tbody>\n",
       "</table>\n",
       "<p>5 rows × 26 columns</p>\n",
       "</div>"
      ],
      "text/plain": [
       "                      Betreiber        Straße Hausnummer Adresszusatz  \\\n",
       "0  EnBW mobility+ AG und Co.KG    Hauptstraße        91c          NaN   \n",
       "1              SWU Energie GmbH  Lindenstraße          7          NaN   \n",
       "2              SWU Energie GmbH    Öllengasse         10          NaN   \n",
       "3              SWU Energie GmbH    Sterngasse          6          NaN   \n",
       "4  EnBW mobility+ AG und Co.KG         Heuweg         12          NaN   \n",
       "\n",
       "   Postleitzahl            Ort         Bundesland     Kreis/kreisfreie Stadt  \\\n",
       "0         73340      Amstetten  Baden-Württemberg  Landkreis Alb-Donau-Kreis   \n",
       "1         89176    Asselfingen  Baden-Württemberg  Landkreis Alb-Donau-Kreis   \n",
       "2         89177     Ballendorf  Baden-Württemberg  Landkreis Alb-Donau-Kreis   \n",
       "3         88481       Balzheim  Baden-Württemberg  Landkreis Alb-Donau-Kreis   \n",
       "4         89179  Beimerstetten  Baden-Württemberg  Landkreis Alb-Donau-Kreis   \n",
       "\n",
       "  Breitengrad Längengrad  ... Public Key1                  Steckertypen2  \\\n",
       "0  48.5785342  9.8748399  ...         NaN  DC Kupplung Combo, DC CHAdeMO   \n",
       "1   48.528983  10.193397  ...         NaN                            NaN   \n",
       "2   48.553539  10.082678  ...         NaN             AC Steckdose Typ 2   \n",
       "3   48.179959  10.076977  ...         NaN                            NaN   \n",
       "4   48.480387   9.980588  ...         NaN  AC Steckdose Typ 2, AC Schuko   \n",
       "\n",
       "  P2 [kW]  Public Key2 Steckertypen3  P3 [kW] Public Key3 Steckertypen4  \\\n",
       "0    50.0          NaN           NaN      NaN         NaN           NaN   \n",
       "1     NaN          NaN           NaN      NaN         NaN           NaN   \n",
       "2    22.0          NaN           NaN      NaN         NaN           NaN   \n",
       "3     NaN          NaN           NaN      NaN         NaN           NaN   \n",
       "4    22.0          NaN           NaN      NaN         NaN           NaN   \n",
       "\n",
       "   P4 [kW] Public Key4  \n",
       "0      NaN         NaN  \n",
       "1      NaN         NaN  \n",
       "2      NaN         NaN  \n",
       "3      NaN         NaN  \n",
       "4      NaN         NaN  \n",
       "\n",
       "[5 rows x 26 columns]"
      ]
     },
     "execution_count": 20,
     "metadata": {},
     "output_type": "execute_result"
    }
   ],
   "source": [
    "df.head()"
   ]
  },
  {
   "cell_type": "code",
   "execution_count": 30,
   "id": "12d5fbaf",
   "metadata": {},
   "outputs": [
    {
     "data": {
      "text/plain": [
       "Index(['Betreiber', 'Straße', 'Hausnummer', 'Adresszusatz', 'Postleitzahl',\n",
       "       'Ort', 'Bundesland', 'Kreis/kreisfreie Stadt', 'Breitengrad',\n",
       "       'Längengrad', 'Inbetriebnahmedatum', 'Anschlussleistung',\n",
       "       'Normalladeeinrichtung', 'Anzahl Ladepunkte', 'Steckertypen1',\n",
       "       'P1 [kW]', 'Public Key1', 'Steckertypen2', 'P2 [kW]', 'Public Key2',\n",
       "       'Steckertypen3', 'P3 [kW]', 'Public Key3', 'Steckertypen4', 'P4 [kW]',\n",
       "       'Public Key4'],\n",
       "      dtype='object')"
      ]
     },
     "execution_count": 30,
     "metadata": {},
     "output_type": "execute_result"
    }
   ],
   "source": [
    "df.columns"
   ]
  },
  {
   "cell_type": "code",
   "execution_count": 7,
   "id": "b7b7a92e",
   "metadata": {},
   "outputs": [
    {
     "data": {
      "text/plain": [
       "<AxesSubplot:>"
      ]
     },
     "execution_count": 7,
     "metadata": {},
     "output_type": "execute_result"
    },
    {
     "data": {
      "image/png": "[encoded data removed]",
      "text/plain": [
       "<Figure size 432x288 with 2 Axes>"
      ]
     },
     "metadata": {
      "needs_background": "light"
     },
     "output_type": "display_data"
    }
   ],
   "source": [
    "import seaborn as sns\n",
    "%matplotlib inline\n",
    "\n",
    "\n",
    "# calculate the correlation matrix\n",
    "corr = df.corr()\n",
    "\n",
    "# plot the heatmap\n",
    "sns.heatmap(corr, \n",
    "        xticklabels=corr.columns,\n",
    "        yticklabels=corr.columns,annot=True,cmap='Blues', fmt='g')"
   ]
  },
  {
   "cell_type": "code",
   "execution_count": 17,
   "id": "674aa449",
   "metadata": {},
   "outputs": [
    {
     "data": {
      "text/plain": [
       "Index(['Postleitzahl', 'Anschlussleistung', 'Anzahl Ladepunkte', 'P1 [kW]',\n",
       "       'P2 [kW]', 'P3 [kW]'],\n",
       "      dtype='object')"
      ]
     },
     "execution_count": 17,
     "metadata": {},
     "output_type": "execute_result"
    }
   ],
   "source": [
    "df[df['P3 [kW]'].notna()].corr().columns"
   ]
  },
  {
   "cell_type": "code",
   "execution_count": null,
   "id": "3396dd60",
   "metadata": {},
   "outputs": [],
   "source": [
    "for i in ['Postleitzahl', 'Anschlussleistung', 'Anzahl Ladepunkte', 'P1 [kW]',\n",
    "       'P2 [kW]', 'P3 [kW]']:"
   ]
  },
  {
   "cell_type": "code",
   "execution_count": 22,
   "id": "6b5748af",
   "metadata": {},
   "outputs": [
    {
     "data": {
      "text/plain": [
       "<AxesSubplot:ylabel='Density'>"
      ]
     },
     "execution_count": 22,
     "metadata": {},
     "output_type": "execute_result"
    },
    {
     "data": {
      "image/png": "[encoded data removed]",
      "text/plain": [
       "<Figure size 432x288 with 1 Axes>"
      ]
     },
     "metadata": {
      "needs_background": "light"
     },
     "output_type": "display_data"
    }
   ],
   "source": [
    "df['Anschlussleistung'].plot(kind='kde')\n"
   ]
  },
  {
   "cell_type": "code",
   "execution_count": 26,
   "id": "3b154f7e",
   "metadata": {},
   "outputs": [
    {
     "data": {
      "text/plain": [
       "<AxesSubplot:ylabel='Density'>"
      ]
     },
     "execution_count": 26,
     "metadata": {},
     "output_type": "execute_result"
    },
    {
     "data": {
      "image/png": "[encoded data removed]",
      "text/plain": [
       "<Figure size 432x288 with 1 Axes>"
      ]
     },
     "metadata": {
      "needs_background": "light"
     },
     "output_type": "display_data"
    }
   ],
   "source": [
    "df['P1 [kW]'].plot(kind='kde')\n"
   ]
  },
  {
   "cell_type": "code",
   "execution_count": 27,
   "id": "79d0a55c",
   "metadata": {},
   "outputs": [
    {
     "data": {
      "text/plain": [
       "<AxesSubplot:ylabel='Density'>"
      ]
     },
     "execution_count": 27,
     "metadata": {},
     "output_type": "execute_result"
    },
    {
     "data": {
      "image/png": "[encoded data removed]",
      "text/plain": [
       "<Figure size 432x288 with 1 Axes>"
      ]
     },
     "metadata": {
      "needs_background": "light"
     },
     "output_type": "display_data"
    }
   ],
   "source": [
    "df['P2 [kW]'].plot(kind='kde')"
   ]
  },
  {
   "cell_type": "code",
   "execution_count": 28,
   "id": "7b09e8a1",
   "metadata": {},
   "outputs": [
    {
     "data": {
      "text/plain": [
       "<AxesSubplot:ylabel='Density'>"
      ]
     },
     "execution_count": 28,
     "metadata": {},
     "output_type": "execute_result"
    },
    {
     "data": {
      "image/png": "[encoded data removed]",
      "text/plain": [
       "<Figure size 432x288 with 1 Axes>"
      ]
     },
     "metadata": {
      "needs_background": "light"
     },
     "output_type": "display_data"
    }
   ],
   "source": [
    "df['P3 [kW]'].plot(kind='kde')"
   ]
  },
  {
   "cell_type": "code",
   "execution_count": 29,
   "id": "3fcf5d31",
   "metadata": {},
   "outputs": [
    {
     "data": {
      "text/plain": [
       "28.914511930585686"
      ]
     },
     "execution_count": 29,
     "metadata": {},
     "output_type": "execute_result"
    }
   ],
   "source": [
    "df['P3 [kW]'].mean()"
   ]
  },
  {
   "cell_type": "code",
   "execution_count": 21,
   "id": "59fb0377",
   "metadata": {},
   "outputs": [
    {
     "ename": "TypeError",
     "evalue": "no numeric data to plot",
     "output_type": "error",
     "traceback": [
      "\u001b[1;31m---------------------------------------------------------------------------\u001b[0m",
      "\u001b[1;31mTypeError\u001b[0m                                 Traceback (most recent call last)",
      "Input \u001b[1;32mIn [21]\u001b[0m, in \u001b[0;36m<cell line: 1>\u001b[1;34m()\u001b[0m\n\u001b[1;32m----> 1\u001b[0m \u001b[43mdf\u001b[49m\u001b[43m[\u001b[49m\u001b[38;5;124;43m'\u001b[39;49m\u001b[38;5;124;43mBetreiber\u001b[39;49m\u001b[38;5;124;43m'\u001b[39;49m\u001b[43m]\u001b[49m\u001b[38;5;241;43m.\u001b[39;49m\u001b[43mplot\u001b[49m\u001b[43m(\u001b[49m\u001b[43mkind\u001b[49m\u001b[38;5;241;43m=\u001b[39;49m\u001b[38;5;124;43m'\u001b[39;49m\u001b[38;5;124;43mhist\u001b[39;49m\u001b[38;5;124;43m'\u001b[39;49m\u001b[43m,\u001b[49m\u001b[43m \u001b[49m\u001b[43medgecolor\u001b[49m\u001b[38;5;241;43m=\u001b[39;49m\u001b[38;5;124;43m'\u001b[39;49m\u001b[38;5;124;43mblack\u001b[39;49m\u001b[38;5;124;43m'\u001b[39;49m\u001b[43m)\u001b[49m\n",
      "File \u001b[1;32m~\\anaconda3\\lib\\site-packages\\pandas\\plotting\\_core.py:972\u001b[0m, in \u001b[0;36mPlotAccessor.__call__\u001b[1;34m(self, *args, **kwargs)\u001b[0m\n\u001b[0;32m    969\u001b[0m             label_name \u001b[38;5;241m=\u001b[39m label_kw \u001b[38;5;129;01mor\u001b[39;00m data\u001b[38;5;241m.\u001b[39mcolumns\n\u001b[0;32m    970\u001b[0m             data\u001b[38;5;241m.\u001b[39mcolumns \u001b[38;5;241m=\u001b[39m label_name\n\u001b[1;32m--> 972\u001b[0m \u001b[38;5;28;01mreturn\u001b[39;00m plot_backend\u001b[38;5;241m.\u001b[39mplot(data, kind\u001b[38;5;241m=\u001b[39mkind, \u001b[38;5;241m*\u001b[39m\u001b[38;5;241m*\u001b[39mkwargs)\n",
      "File \u001b[1;32m~\\anaconda3\\lib\\site-packages\\pandas\\plotting\\_matplotlib\\__init__.py:71\u001b[0m, in \u001b[0;36mplot\u001b[1;34m(data, kind, **kwargs)\u001b[0m\n\u001b[0;32m     69\u001b[0m         kwargs[\u001b[38;5;124m\"\u001b[39m\u001b[38;5;124max\u001b[39m\u001b[38;5;124m\"\u001b[39m] \u001b[38;5;241m=\u001b[39m \u001b[38;5;28mgetattr\u001b[39m(ax, \u001b[38;5;124m\"\u001b[39m\u001b[38;5;124mleft_ax\u001b[39m\u001b[38;5;124m\"\u001b[39m, ax)\n\u001b[0;32m     70\u001b[0m plot_obj \u001b[38;5;241m=\u001b[39m PLOT_CLASSES[kind](data, \u001b[38;5;241m*\u001b[39m\u001b[38;5;241m*\u001b[39mkwargs)\n\u001b[1;32m---> 71\u001b[0m \u001b[43mplot_obj\u001b[49m\u001b[38;5;241;43m.\u001b[39;49m\u001b[43mgenerate\u001b[49m\u001b[43m(\u001b[49m\u001b[43m)\u001b[49m\n\u001b[0;32m     72\u001b[0m plot_obj\u001b[38;5;241m.\u001b[39mdraw()\n\u001b[0;32m     73\u001b[0m \u001b[38;5;28;01mreturn\u001b[39;00m plot_obj\u001b[38;5;241m.\u001b[39mresult\n",
      "File \u001b[1;32m~\\anaconda3\\lib\\site-packages\\pandas\\plotting\\_matplotlib\\core.py:327\u001b[0m, in \u001b[0;36mMPLPlot.generate\u001b[1;34m(self)\u001b[0m\n\u001b[0;32m    325\u001b[0m \u001b[38;5;28;01mdef\u001b[39;00m \u001b[38;5;21mgenerate\u001b[39m(\u001b[38;5;28mself\u001b[39m):\n\u001b[0;32m    326\u001b[0m     \u001b[38;5;28mself\u001b[39m\u001b[38;5;241m.\u001b[39m_args_adjust()\n\u001b[1;32m--> 327\u001b[0m     \u001b[38;5;28;43mself\u001b[39;49m\u001b[38;5;241;43m.\u001b[39;49m\u001b[43m_compute_plot_data\u001b[49m\u001b[43m(\u001b[49m\u001b[43m)\u001b[49m\n\u001b[0;32m    328\u001b[0m     \u001b[38;5;28mself\u001b[39m\u001b[38;5;241m.\u001b[39m_setup_subplots()\n\u001b[0;32m    329\u001b[0m     \u001b[38;5;28mself\u001b[39m\u001b[38;5;241m.\u001b[39m_make_plot()\n",
      "File \u001b[1;32m~\\anaconda3\\lib\\site-packages\\pandas\\plotting\\_matplotlib\\core.py:506\u001b[0m, in \u001b[0;36mMPLPlot._compute_plot_data\u001b[1;34m(self)\u001b[0m\n\u001b[0;32m    504\u001b[0m \u001b[38;5;66;03m# no non-numeric frames or series allowed\u001b[39;00m\n\u001b[0;32m    505\u001b[0m \u001b[38;5;28;01mif\u001b[39;00m is_empty:\n\u001b[1;32m--> 506\u001b[0m     \u001b[38;5;28;01mraise\u001b[39;00m \u001b[38;5;167;01mTypeError\u001b[39;00m(\u001b[38;5;124m\"\u001b[39m\u001b[38;5;124mno numeric data to plot\u001b[39m\u001b[38;5;124m\"\u001b[39m)\n\u001b[0;32m    508\u001b[0m \u001b[38;5;28mself\u001b[39m\u001b[38;5;241m.\u001b[39mdata \u001b[38;5;241m=\u001b[39m numeric_data\u001b[38;5;241m.\u001b[39mapply(\u001b[38;5;28mself\u001b[39m\u001b[38;5;241m.\u001b[39m_convert_to_ndarray)\n",
      "\u001b[1;31mTypeError\u001b[0m: no numeric data to plot"
     ]
    }
   ],
   "source": [
    "df['Betreiber'].plot(kind='hist', edgecolor='black')\n"
   ]
  },
  {
   "cell_type": "code",
   "execution_count": 16,
   "id": "ac0b7931",
   "metadata": {},
   "outputs": [
    {
     "data": {
      "text/plain": [
       "<AxesSubplot:ylabel='Density'>"
      ]
     },
     "execution_count": 16,
     "metadata": {},
     "output_type": "execute_result"
    },
    {
     "data": {
      "image/png": "[encoded data removed]",
      "text/plain": [
       "<Figure size 432x288 with 1 Axes>"
      ]
     },
     "metadata": {
      "needs_background": "light"
     },
     "output_type": "display_data"
    }
   ],
   "source": [
    "df['Anschlussleistung'].plot(kind='kde')\n"
   ]
  },
  {
   "cell_type": "code",
   "execution_count": null,
   "id": "750e3556",
   "metadata": {},
   "outputs": [],
   "source": [
    "corr.head()"
   ]
  },
  {
   "cell_type": "code",
   "execution_count": null,
   "id": "dd36a836",
   "metadata": {},
   "outputs": [],
   "source": [
    "df.head()"
   ]
  },
  {
   "cell_type": "code",
   "execution_count": null,
   "id": "c7261732",
   "metadata": {},
   "outputs": [],
   "source": [
    "df['P2 [kW]'].unique()"
   ]
  },
  {
   "cell_type": "code",
   "execution_count": null,
   "id": "438b35f6",
   "metadata": {},
   "outputs": [],
   "source": [
    "df.info()"
   ]
  },
  {
   "cell_type": "code",
   "execution_count": null,
   "id": "63177cc0",
   "metadata": {},
   "outputs": [],
   "source": [
    "df['Betreiber'].unique()"
   ]
  },
  {
   "cell_type": "code",
   "execution_count": null,
   "id": "8a86b712",
   "metadata": {},
   "outputs": [],
   "source": [
    "df['Betreiber'].value_counts()\n"
   ]
  },
  {
   "cell_type": "code",
   "execution_count": null,
   "id": "5670638d",
   "metadata": {},
   "outputs": [],
   "source": [
    "df.groupby(\"Betreiber\").sum().apply(lambda x: x.sort_values(ascending=False).head())"
   ]
  },
  {
   "cell_type": "code",
   "execution_count": null,
   "id": "0fa853ab",
   "metadata": {},
   "outputs": [],
   "source": [
    "import seaborn as sns\n",
    "\n",
    "ax = sns.countplot(x=\"Betreiber\",data=df)"
   ]
  },
  {
   "cell_type": "code",
   "execution_count": null,
   "id": "d70d2022",
   "metadata": {},
   "outputs": [],
   "source": [
    "df.dropna(inplace=True)"
   ]
  },
  {
   "cell_type": "code",
   "execution_count": null,
   "id": "91f96a54",
   "metadata": {},
   "outputs": [],
   "source": [
    "df[[ 'Anzahl Ladepunkte', 'Steckertypen1',\n",
    "       'P1 [kW]', 'Public Key1', 'Steckertypen2', 'P2 [kW]', 'Public Key2',\n",
    "       'Steckertypen3', 'P3 [kW]', 'Public Key3', 'Steckertypen4', 'P4 [kW]',\n",
    "       'Public Key4']]"
   ]
  },
  {
   "cell_type": "code",
   "execution_count": null,
   "id": "8292c1c7",
   "metadata": {},
   "outputs": [],
   "source": [
    "df.info()"
   ]
  },
  {
   "cell_type": "code",
   "execution_count": null,
   "id": "1724d409",
   "metadata": {},
   "outputs": [],
   "source": [
    "df.describe()"
   ]
  },
  {
   "cell_type": "code",
   "execution_count": null,
   "id": "fa8694e3",
   "metadata": {},
   "outputs": [],
   "source": [
    "df['Breitengrad'] = df['Breitengrad'].astype(float)\n",
    "df['Längengrad'] = df['Längengrad'].astype(float)"
   ]
  },
  {
   "cell_type": "code",
   "execution_count": null,
   "id": "a9034f3f",
   "metadata": {},
   "outputs": [],
   "source": [
    "!pip install folium"
   ]
  },
  {
   "cell_type": "code",
   "execution_count": null,
   "id": "ffbfb0a6",
   "metadata": {},
   "outputs": [],
   "source": [
    "import folium\n",
    "print(folium.__version__)\n",
    "from folium.plugins import MarkerCluster\n",
    "from folium import IFrame\n",
    "\n",
    "%matplotlib inline"
   ]
  },
  {
   "cell_type": "code",
   "execution_count": null,
   "id": "2ae0141d",
   "metadata": {},
   "outputs": [],
   "source": [
    "df.head()"
   ]
  },
  {
   "cell_type": "code",
   "execution_count": null,
   "id": "ba1cde35",
   "metadata": {},
   "outputs": [],
   "source": []
  },
  {
   "cell_type": "code",
   "execution_count": null,
   "id": "b35ef860",
   "metadata": {},
   "outputs": [],
   "source": [
    "df.info()"
   ]
  },
  {
   "cell_type": "code",
   "execution_count": null,
   "id": "d597867e",
   "metadata": {},
   "outputs": [],
   "source": [
    "\n",
    "m = folium.Map(location=[48.566846, 13.436720], zoom_start=13, tiles=\"Stamen Terrain\")\n",
    "\n",
    "tooltip = \"Click me!\"\n",
    "\n",
    "for index,row in enumerate(df[[\"Breitengrad\",\"Längengrad\"]].head(10).itertuples()):\n",
    "    html=\"a\"\n",
    "    try:\n",
    "        folium.Marker([float(row.Breitengrad[:-1].replace(\",\",\".\")), float(row.Längengrad[:-1].replace(\",\",\".\"))], popup=html, tooltip=tooltip).add_to(m)\n",
    "    except:\n",
    "        print(row)\n",
    "m"
   ]
  },
  {
   "cell_type": "code",
   "execution_count": null,
   "id": "0fcaea54",
   "metadata": {},
   "outputs": [],
   "source": []
  }
 ],
 "metadata": {
  "kernelspec": {
   "display_name": "Python 3 (ipykernel)",
   "language": "python",
   "name": "python3"
  },
  "language_info": {
   "codemirror_mode": {
    "name": "ipython",
    "version": 3
   },
   "file_extension": ".py",
   "mimetype": "text/x-python",
   "name": "python",
   "nbconvert_exporter": "python",
   "pygments_lexer": "ipython3",
   "version": "3.9.12"
  }
 },
 "nbformat": 4,
 "nbformat_minor": 5
}
